{
  "nbformat": 4,
  "nbformat_minor": 0,
  "metadata": {
    "colab": {
      "provenance": [],
      "collapsed_sections": [],
      "toc_visible": true,
      "include_colab_link": true
    },
    "kernelspec": {
      "name": "python3",
      "display_name": "Python 3"
    },
    "language_info": {
      "name": "python"
    },
    "accelerator": "GPU",
    "gpuClass": "standard"
  },
  "cells": [
    {
      "cell_type": "markdown",
      "metadata": {
        "id": "view-in-github",
        "colab_type": "text"
      },
      "source": [
        "<a href=\"https://colab.research.google.com/github/lucianomattar/Arcevo-R/blob/main/Trabalho_pr%C3%A1tico_1_(1).ipynb\" target=\"_parent\"><img src=\"https://colab.research.google.com/assets/colab-badge.svg\" alt=\"Open In Colab\"/></a>"
      ]
    },
    {
      "cell_type": "code",
      "execution_count": 1,
      "metadata": {
        "id": "Dw9RqGsajM-U"
      },
      "outputs": [],
      "source": [
        "import numpy as np #importa biblioteca para manipulação de matrizes\n",
        "from matplotlib import pyplot as plt #importa bilbioteca para criação de gráficos\n",
        "import tensorflow as tf\n",
        "from tensorflow import keras\n",
        "from tensorflow.image import resize\n",
        "\n",
        "#início das importações de classes do Keras (modelos de Deep Learning)\n",
        "from keras.datasets import fashion_mnist  \n",
        "from keras.models import Sequential       \n",
        "from keras.layers import Dense, InputLayer            \n",
        "from keras.layers import Dropout          \n",
        "from keras.utils import np_utils          \n"
      ]
    },
    {
      "cell_type": "code",
      "source": [
        "# importa o dataset Mnist da biblioteca do Keras\n",
        "(X_train, y_train), (X_test, y_test) = fashion_mnist.load_data()\n",
        "\n"
      ],
      "metadata": {
        "id": "TyKoWinwjPrl",
        "colab": {
          "base_uri": "https://localhost:8080/"
        },
        "outputId": "8011e58e-6f62-43a1-b3a0-23ce6f350d5a"
      },
      "execution_count": 2,
      "outputs": [
        {
          "output_type": "stream",
          "name": "stdout",
          "text": [
            "Downloading data from https://storage.googleapis.com/tensorflow/tf-keras-datasets/train-labels-idx1-ubyte.gz\n",
            "32768/29515 [=================================] - 0s 0us/step\n",
            "40960/29515 [=========================================] - 0s 0us/step\n",
            "Downloading data from https://storage.googleapis.com/tensorflow/tf-keras-datasets/train-images-idx3-ubyte.gz\n",
            "26427392/26421880 [==============================] - 0s 0us/step\n",
            "26435584/26421880 [==============================] - 0s 0us/step\n",
            "Downloading data from https://storage.googleapis.com/tensorflow/tf-keras-datasets/t10k-labels-idx1-ubyte.gz\n",
            "16384/5148 [===============================================================================================] - 0s 0us/step\n",
            "Downloading data from https://storage.googleapis.com/tensorflow/tf-keras-datasets/t10k-images-idx3-ubyte.gz\n",
            "4423680/4422102 [==============================] - 0s 0us/step\n",
            "4431872/4422102 [==============================] - 0s 0us/step\n"
          ]
        }
      ]
    },
    {
      "cell_type": "code",
      "source": [
        "print(X_train.shape)\n",
        "print(y_train.shape)\n",
        "print(X_test.shape)\n",
        "print(y_test.shape)"
      ],
      "metadata": {
        "colab": {
          "base_uri": "https://localhost:8080/"
        },
        "id": "s-Dc1dtFsXCz",
        "outputId": "1da274c1-eb88-4c37-bc96-f786ba720a84"
      },
      "execution_count": 3,
      "outputs": [
        {
          "output_type": "stream",
          "name": "stdout",
          "text": [
            "(60000, 28, 28)\n",
            "(60000,)\n",
            "(10000, 28, 28)\n",
            "(10000,)\n"
          ]
        }
      ]
    },
    {
      "cell_type": "code",
      "source": [
        "# imprime o tamanho do vetor\n",
        "print(X_train.shape) \n",
        "first_imagem = X_train[4000]\n",
        "# realiza a manipulação dos dados da imagem\n",
        "first_imagem = np.array(first_imagem, dtype = 'float')\n",
        "pixels = first_imagem.reshape((28,28))\n",
        "# exibe a imagem do vetor\n",
        "plt.imshow(pixels, cmap='gray')\n",
        "plt.show()\n",
        "\n",
        "# imprime a classe da imagem de treino do índice 100\n",
        "print(y_train[4000])\n"
      ],
      "metadata": {
        "colab": {
          "base_uri": "https://localhost:8080/",
          "height": 300
        },
        "id": "pLH4a5g2kcVd",
        "outputId": "8feae976-76c7-4fd5-a641-b1ea5dd5f5a2"
      },
      "execution_count": 4,
      "outputs": [
        {
          "output_type": "stream",
          "name": "stdout",
          "text": [
            "(60000, 28, 28)\n"
          ]
        },
        {
          "output_type": "display_data",
          "data": {
            "text/plain": [
              "<Figure size 432x288 with 1 Axes>"
            ],
            "image/png": "[encoded data removed]"
          },
          "metadata": {
            "needs_background": "light"
          }
        },
        {
          "output_type": "stream",
          "name": "stdout",
          "text": [
            "8\n"
          ]
        }
      ]
    },
    {
      "cell_type": "code",
      "source": [
        "# imprime o tamanho do vetor\n",
        "print(X_test.shape) \n",
        "first_imagem = X_test[4000]\n",
        "# realiza a manipulação dos dados da imagem\n",
        "first_imagem = np.array(first_imagem, dtype = 'float')\n",
        "pixels = first_imagem.reshape((28,28))\n",
        "# exibe a imagem do vetor\n",
        "plt.imshow(pixels, cmap='gray')\n",
        "plt.show()\n",
        "\n",
        "# imprime a classe da imagem de test\n",
        "#print(X_test[4000])"
      ],
      "metadata": {
        "colab": {
          "base_uri": "https://localhost:8080/",
          "height": 282
        },
        "id": "ff8UnNps8Fup",
        "outputId": "ce95c03e-0cf8-42e9-caaf-b16e09bc42c9"
      },
      "execution_count": 5,
      "outputs": [
        {
          "output_type": "stream",
          "name": "stdout",
          "text": [
            "(10000, 28, 28)\n"
          ]
        },
        {
          "output_type": "display_data",
          "data": {
            "text/plain": [
              "<Figure size 432x288 with 1 Axes>"
            ],
            "image/png": "[encoded data removed]"
          },
          "metadata": {
            "needs_background": "light"
          }
        }
      ]
    },
    {
      "cell_type": "code",
      "source": [
        "X_train.shape[1] * X_train.shape[2]"
      ],
      "metadata": {
        "colab": {
          "base_uri": "https://localhost:8080/"
        },
        "id": "2sfQtFKh44tW",
        "outputId": "88ebd75c-7fe7-4c7e-85d7-ab5d9dd031ff"
      },
      "execution_count": 6,
      "outputs": [
        {
          "output_type": "execute_result",
          "data": {
            "text/plain": [
              "784"
            ]
          },
          "metadata": {},
          "execution_count": 6
        }
      ]
    },
    {
      "cell_type": "code",
      "source": [
        " \n",
        "# Adiciona eixo no último índice da lista \n",
        "X_train_1 = np.expand_dims(X_train, axis=-1) \n",
        "# Repete 3 vezes o último índice \n",
        "X_train_1 = np.repeat(X_train_1, 3, axis=-1) \n",
        "# Redimensiona as imagens para 32x32 \n",
        "X_train_resize = resize(X_train_1, [32,32])"
      ],
      "metadata": {
        "id": "IalO2ILrkiKe"
      },
      "execution_count": 7,
      "outputs": []
    },
    {
      "cell_type": "code",
      "source": [
        "num_pixels= X_train_resize.shape[1] * X_train_resize.shape[2]\n",
        "print(num_pixels)"
      ],
      "metadata": {
        "colab": {
          "base_uri": "https://localhost:8080/"
        },
        "id": "terDIId45JSB",
        "outputId": "d91017be-af1c-4e4d-c976-8ee62c6c43e5"
      },
      "execution_count": 8,
      "outputs": [
        {
          "output_type": "stream",
          "name": "stdout",
          "text": [
            "1024\n"
          ]
        }
      ]
    },
    {
      "cell_type": "code",
      "source": [
        "from keras.applications.vgg16 import VGG16\n",
        "model = VGG16(input_shape=(32,32,3), weights=None, classes = 10)\n",
        "model.summary()"
      ],
      "metadata": {
        "colab": {
          "base_uri": "https://localhost:8080/"
        },
        "id": "pmh1-VmuqvX8",
        "outputId": "3e46d540-d101-46cc-a624-b4882390da42"
      },
      "execution_count": 10,
      "outputs": [
        {
          "output_type": "stream",
          "name": "stdout",
          "text": [
            "Model: \"vgg16\"\n",
            "_________________________________________________________________\n",
            " Layer (type)                Output Shape              Param #   \n",
            "=================================================================\n",
            " input_2 (InputLayer)        [(None, 32, 32, 3)]       0         \n",
            "                                                                 \n",
            " block1_conv1 (Conv2D)       (None, 32, 32, 64)        1792      \n",
            "                                                                 \n",
            " block1_conv2 (Conv2D)       (None, 32, 32, 64)        36928     \n",
            "                                                                 \n",
            " block1_pool (MaxPooling2D)  (None, 16, 16, 64)        0         \n",
            "                                                                 \n",
            " block2_conv1 (Conv2D)       (None, 16, 16, 128)       73856     \n",
            "                                                                 \n",
            " block2_conv2 (Conv2D)       (None, 16, 16, 128)       147584    \n",
            "                                                                 \n",
            " block2_pool (MaxPooling2D)  (None, 8, 8, 128)         0         \n",
            "                                                                 \n",
            " block3_conv1 (Conv2D)       (None, 8, 8, 256)         295168    \n",
            "                                                                 \n",
            " block3_conv2 (Conv2D)       (None, 8, 8, 256)         590080    \n",
            "                                                                 \n",
            " block3_conv3 (Conv2D)       (None, 8, 8, 256)         590080    \n",
            "                                                                 \n",
            " block3_pool (MaxPooling2D)  (None, 4, 4, 256)         0         \n",
            "                                                                 \n",
            " block4_conv1 (Conv2D)       (None, 4, 4, 512)         1180160   \n",
            "                                                                 \n",
            " block4_conv2 (Conv2D)       (None, 4, 4, 512)         2359808   \n",
            "                                                                 \n",
            " block4_conv3 (Conv2D)       (None, 4, 4, 512)         2359808   \n",
            "                                                                 \n",
            " block4_pool (MaxPooling2D)  (None, 2, 2, 512)         0         \n",
            "                                                                 \n",
            " block5_conv1 (Conv2D)       (None, 2, 2, 512)         2359808   \n",
            "                                                                 \n",
            " block5_conv2 (Conv2D)       (None, 2, 2, 512)         2359808   \n",
            "                                                                 \n",
            " block5_conv3 (Conv2D)       (None, 2, 2, 512)         2359808   \n",
            "                                                                 \n",
            " block5_pool (MaxPooling2D)  (None, 1, 1, 512)         0         \n",
            "                                                                 \n",
            " flatten (Flatten)           (None, 512)               0         \n",
            "                                                                 \n",
            " fc1 (Dense)                 (None, 4096)              2101248   \n",
            "                                                                 \n",
            " fc2 (Dense)                 (None, 4096)              16781312  \n",
            "                                                                 \n",
            " predictions (Dense)         (None, 10)                40970     \n",
            "                                                                 \n",
            "=================================================================\n",
            "Total params: 33,638,218\n",
            "Trainable params: 33,638,218\n",
            "Non-trainable params: 0\n",
            "_________________________________________________________________\n"
          ]
        }
      ]
    },
    {
      "cell_type": "code",
      "source": [
        "# Parte 2"
      ],
      "metadata": {
        "id": "-2Lihp6M9K9U"
      },
      "execution_count": 11,
      "outputs": []
    },
    {
      "cell_type": "code",
      "source": [
        "#importa o dataset Mnist da biblioteca do Keras\n",
        "(X_train_new, y_train_new), (X_test_new, y_test_new) = fashion_mnist.load_data() "
      ],
      "metadata": {
        "id": "kAne8lJPB52Z"
      },
      "execution_count": 12,
      "outputs": []
    },
    {
      "cell_type": "code",
      "source": [
        "#calcula o total de pixels da imagem\n",
        "num_pixels_2 = X_train_new.shape[1] * X_train_new.shape[2]  \n",
        "print(num_pixels_2)\n",
        "\n",
        "#tranforma os valores dos pixels para float32\n",
        "X_train2 = X_train_new.reshape(X_train_new.shape[0], num_pixels_2).astype('float32')\n",
        "X_test2 = X_test_new.reshape(X_test_new.shape[0], num_pixels_2).astype('float32')\n",
        "\n",
        "#normalizando os valores dos pixels entre 0 e 1\n",
        "X_train2 = X_train2 / 255\n",
        "X_test2 = X_test2 / 255"
      ],
      "metadata": {
        "colab": {
          "base_uri": "https://localhost:8080/"
        },
        "id": "Hz0YURC8B5zm",
        "outputId": "6702423d-a4e5-421a-e776-668ef8a3d3fa"
      },
      "execution_count": 13,
      "outputs": [
        {
          "output_type": "stream",
          "name": "stdout",
          "text": [
            "784\n"
          ]
        }
      ]
    },
    {
      "cell_type": "code",
      "source": [
        "#trasnforma os y em one-hot vector\n",
        "y_train_h = np_utils.to_categorical(y_train_new)\n",
        "y_test_h = np_utils.to_categorical(y_test_new)\n",
        "\n",
        "#obtém o número de classes do problema\n",
        "num_classes = y_test_h.shape[1]\n",
        "\n",
        "print(\"Número de classes: \", num_classes)\n",
        "print(y_train_h[4000])"
      ],
      "metadata": {
        "colab": {
          "base_uri": "https://localhost:8080/"
        },
        "id": "afG889VcB5w5",
        "outputId": "a8a3933c-e4dd-4283-c1fd-5dab71070e56"
      },
      "execution_count": 14,
      "outputs": [
        {
          "output_type": "stream",
          "name": "stdout",
          "text": [
            "Número de classes:  10\n",
            "[0. 0. 0. 0. 0. 0. 0. 0. 1. 0.]\n"
          ]
        }
      ]
    },
    {
      "cell_type": "code",
      "source": [
        "model = keras.Sequential([\n",
        "                          keras.layers.Dense(num_pixels_2, input_dim = num_pixels_2, kernel_initializer='normal', activation='relu'),\n",
        "                          keras.layers.Dense(1024,  kernel_initializer='normal', activation='relu'),\n",
        "                          keras.layers.Dense(2048,  kernel_initializer='normal', activation='relu'),\n",
        "                          keras.layers.Dense(2048,  kernel_initializer='normal', activation='relu'),\n",
        "                          keras.layers.Dense(num_classes, kernel_initializer='normal', activation='softmax')\n",
        "])"
      ],
      "metadata": {
        "id": "JnA1bEwKB5t3"
      },
      "execution_count": 15,
      "outputs": []
    },
    {
      "cell_type": "code",
      "source": [
        "model.summary()"
      ],
      "metadata": {
        "colab": {
          "base_uri": "https://localhost:8080/"
        },
        "id": "Wz0OYU7iB5qG",
        "outputId": "f7a0f9e9-4c7e-42cc-c969-66a6c5f70b70"
      },
      "execution_count": 16,
      "outputs": [
        {
          "output_type": "stream",
          "name": "stdout",
          "text": [
            "Model: \"sequential\"\n",
            "_________________________________________________________________\n",
            " Layer (type)                Output Shape              Param #   \n",
            "=================================================================\n",
            " dense (Dense)               (None, 784)               615440    \n",
            "                                                                 \n",
            " dense_1 (Dense)             (None, 1024)              803840    \n",
            "                                                                 \n",
            " dense_2 (Dense)             (None, 2048)              2099200   \n",
            "                                                                 \n",
            " dense_3 (Dense)             (None, 2048)              4196352   \n",
            "                                                                 \n",
            " dense_4 (Dense)             (None, 10)                20490     \n",
            "                                                                 \n",
            "=================================================================\n",
            "Total params: 7,735,322\n",
            "Trainable params: 7,735,322\n",
            "Non-trainable params: 0\n",
            "_________________________________________________________________\n"
          ]
        }
      ]
    },
    {
      "cell_type": "code",
      "source": [
        "# compila o modelo criado\n",
        "model.compile(loss='categorical_crossentropy', optimizer='Adam', metrics=['accuracy'])\n",
        "# treina o modelo\n",
        "result = model.fit(X_train2, y_train_h, validation_data = (X_test2, y_test_h), epochs=10, verbose=1, batch_size=100)"
      ],
      "metadata": {
        "colab": {
          "base_uri": "https://localhost:8080/"
        },
        "id": "wbb_7cggB5mm",
        "outputId": "5342b789-d228-4a42-a370-f79be2374371"
      },
      "execution_count": 17,
      "outputs": [
        {
          "output_type": "stream",
          "name": "stdout",
          "text": [
            "Epoch 1/10\n",
            "600/600 [==============================] - 6s 5ms/step - loss: 0.5349 - accuracy: 0.8255 - val_loss: 0.4292 - val_accuracy: 0.8473\n",
            "Epoch 2/10\n",
            "600/600 [==============================] - 3s 5ms/step - loss: 0.3605 - accuracy: 0.8687 - val_loss: 0.3628 - val_accuracy: 0.8712\n",
            "Epoch 3/10\n",
            "600/600 [==============================] - 3s 5ms/step - loss: 0.3227 - accuracy: 0.8798 - val_loss: 0.3670 - val_accuracy: 0.8711\n",
            "Epoch 4/10\n",
            "600/600 [==============================] - 3s 5ms/step - loss: 0.3057 - accuracy: 0.8854 - val_loss: 0.3605 - val_accuracy: 0.8691\n",
            "Epoch 5/10\n",
            "600/600 [==============================] - 3s 5ms/step - loss: 0.2867 - accuracy: 0.8946 - val_loss: 0.3677 - val_accuracy: 0.8734\n",
            "Epoch 6/10\n",
            "600/600 [==============================] - 3s 5ms/step - loss: 0.2732 - accuracy: 0.8967 - val_loss: 0.3525 - val_accuracy: 0.8780\n",
            "Epoch 7/10\n",
            "600/600 [==============================] - 3s 5ms/step - loss: 0.2620 - accuracy: 0.9024 - val_loss: 0.3507 - val_accuracy: 0.8779\n",
            "Epoch 8/10\n",
            "600/600 [==============================] - 3s 5ms/step - loss: 0.2517 - accuracy: 0.9046 - val_loss: 0.3573 - val_accuracy: 0.8753\n",
            "Epoch 9/10\n",
            "600/600 [==============================] - 3s 5ms/step - loss: 0.2374 - accuracy: 0.9095 - val_loss: 0.3416 - val_accuracy: 0.8802\n",
            "Epoch 10/10\n",
            "600/600 [==============================] - 3s 5ms/step - loss: 0.2298 - accuracy: 0.9114 - val_loss: 0.3420 - val_accuracy: 0.8845\n"
          ]
        }
      ]
    },
    {
      "cell_type": "code",
      "source": [
        "model2 = keras.Sequential([\n",
        "                          keras.layers.Dense(num_pixels_2, input_dim = num_pixels_2, kernel_initializer='normal', activation='relu'),\n",
        "                          keras.layers.Dense(1024,  kernel_initializer='normal', activation='relu'),\n",
        "                          keras.layers.Dense(2048,  kernel_initializer='normal', activation='relu'),\n",
        "                          keras.layers.Dense(2048,  kernel_initializer='normal', activation='relu'),\n",
        "                          keras.layers.Dense(num_classes, kernel_initializer='normal', activation='relu')\n",
        "])"
      ],
      "metadata": {
        "id": "exwRb3-8IVDv"
      },
      "execution_count": null,
      "outputs": []
    },
    {
      "cell_type": "code",
      "source": [
        "model2.summary()"
      ],
      "metadata": {
        "colab": {
          "base_uri": "https://localhost:8080/"
        },
        "id": "UqaBryh-IeHh",
        "outputId": "32038e56-8c3d-4f4b-892b-3b6eb43c5abd"
      },
      "execution_count": null,
      "outputs": [
        {
          "output_type": "stream",
          "name": "stdout",
          "text": [
            "Model: \"sequential_1\"\n",
            "_________________________________________________________________\n",
            " Layer (type)                Output Shape              Param #   \n",
            "=================================================================\n",
            " dense_5 (Dense)             (None, 784)               615440    \n",
            "                                                                 \n",
            " dense_6 (Dense)             (None, 1024)              803840    \n",
            "                                                                 \n",
            " dense_7 (Dense)             (None, 2048)              2099200   \n",
            "                                                                 \n",
            " dense_8 (Dense)             (None, 2048)              4196352   \n",
            "                                                                 \n",
            " dense_9 (Dense)             (None, 10)                20490     \n",
            "                                                                 \n",
            "=================================================================\n",
            "Total params: 7,735,322\n",
            "Trainable params: 7,735,322\n",
            "Non-trainable params: 0\n",
            "_________________________________________________________________\n"
          ]
        }
      ]
    },
    {
      "cell_type": "code",
      "source": [
        "# compila o modelo criado\n",
        "model2.compile(loss='categorical_crossentropy', optimizer='Adam', metrics=['accuracy'])\n",
        "# treina o modelo\n",
        "result = model2.fit(X_train2, y_train_h, validation_data = (X_test2, y_test_h), epochs=10, verbose=1, batch_size=100)"
      ],
      "metadata": {
        "colab": {
          "base_uri": "https://localhost:8080/"
        },
        "id": "WwoEht2ZIiq7",
        "outputId": "69b43b26-9ded-4216-beb0-b55c44164b95"
      },
      "execution_count": null,
      "outputs": [
        {
          "output_type": "stream",
          "name": "stdout",
          "text": [
            "Epoch 1/10\n",
            "600/600 [==============================] - 3s 5ms/step - loss: nan - accuracy: 0.3201 - val_loss: 7.0996 - val_accuracy: 0.3242\n",
            "Epoch 2/10\n",
            "600/600 [==============================] - 3s 5ms/step - loss: nan - accuracy: 0.3161 - val_loss: 7.1014 - val_accuracy: 0.4172\n",
            "Epoch 3/10\n",
            "600/600 [==============================] - 3s 5ms/step - loss: 7.0316 - accuracy: 0.4063 - val_loss: 7.0638 - val_accuracy: 0.3604\n",
            "Epoch 4/10\n",
            "600/600 [==============================] - 3s 5ms/step - loss: nan - accuracy: 0.3986 - val_loss: 6.9879 - val_accuracy: 0.4390\n",
            "Epoch 5/10\n",
            "600/600 [==============================] - 3s 4ms/step - loss: 7.0276 - accuracy: 0.4015 - val_loss: 7.0459 - val_accuracy: 0.4465\n",
            "Epoch 6/10\n",
            "600/600 [==============================] - 3s 5ms/step - loss: 6.9083 - accuracy: 0.4524 - val_loss: 6.9067 - val_accuracy: 0.4590\n",
            "Epoch 7/10\n",
            "600/600 [==============================] - 3s 5ms/step - loss: 6.9757 - accuracy: 0.4033 - val_loss: 6.9323 - val_accuracy: 0.4397\n",
            "Epoch 8/10\n",
            "600/600 [==============================] - 3s 5ms/step - loss: 6.9258 - accuracy: 0.4359 - val_loss: 6.8625 - val_accuracy: 0.4561\n",
            "Epoch 9/10\n",
            "600/600 [==============================] - 3s 5ms/step - loss: 6.8392 - accuracy: 0.4647 - val_loss: 6.8333 - val_accuracy: 0.4659\n",
            "Epoch 10/10\n",
            "600/600 [==============================] - 3s 5ms/step - loss: 6.9768 - accuracy: 0.3882 - val_loss: 7.2229 - val_accuracy: 0.2794\n"
          ]
        }
      ]
    }
  ]
}