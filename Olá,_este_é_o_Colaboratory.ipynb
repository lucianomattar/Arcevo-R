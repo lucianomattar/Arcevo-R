{
  "cells": [
    {
      "cell_type": "markdown",
      "metadata": {
        "id": "view-in-github",
        "colab_type": "text"
      },
      "source": [
        "<a href=\"https://colab.research.google.com/github/lucianomattar/Arcevo-R/blob/main/Ol%C3%A1%2C_este_%C3%A9_o_Colaboratory.ipynb\" target=\"_parent\"><img src=\"https://colab.research.google.com/assets/colab-badge.svg\" alt=\"Open In Colab\"/></a>"
      ]
    },
    {
      "cell_type": "code",
      "source": [
        "import numpy as np #importa bib para manip de matrizes\n",
        "from matplotlib import pyplot as plt #bib para criação de graf\n",
        "#inicio keras\n",
        "from keras.datasets import mnist #dataset mnist\n",
        "from keras.models import Sequential #modelo sequencial\n",
        "from keras.layers import Dense, InputLayer #camada totalmente conectada\n",
        "from keras.layers import Dropout #estrutura de dropout\n",
        "from keras.utils import np_utils #bib de utilidades do keras\n"
      ],
      "metadata": {
        "id": "SVK45Q5fgQXA"
      },
      "execution_count": 118,
      "outputs": []
    },
    {
      "cell_type": "code",
      "source": [
        "(x_train, y_train), (x_test, y_test) = mnist.load_data() #importa dataset mnist do kera\n",
        "print(x_train.shape)\n",
        "\n",
        "first_image = x_train[10] #imagem de treino indice 100\n",
        "\n",
        "first_image = numpy.array(first_image, dtype = 'float')#realiza manip dos dados da image\n",
        "pixels = first_image.reshape((28,28))\n",
        "\n",
        "plt.imshow(pixels, cmap='gray')#exibe a imagem do vetor\n",
        "plt.show()\n",
        "\n",
        "print(y_train[10])#imprime classe da imagem de treino 1000"
      ],
      "metadata": {
        "id": "hhIy-mf8nJSx"
      },
      "execution_count": null,
      "outputs": []
    },
    {
      "cell_type": "code",
      "source": [
        "num_pixels = x_train.shape[1]*x_train.shape[2] #calcula o total de pixels da imagem\n",
        "print(num_pixels)\n",
        "\n",
        "#transforma os valores dos pixels para float32\n",
        "x_train2 = x_train.reshape(x_train.shape[0], num_pixels).astype('float32')\n",
        "x_test2 = x_test.reshape(x_test.shape[0], num_pixels).astype('float32')\n",
        "\n",
        "print(x_train.shape)\n",
        "print(x_train2.shape)\n",
        "print(x_train2)\n",
        "\n",
        "#normalizando os valores dos pixels entre 0 e 1\n",
        "x_train2 = x_train2/255\n",
        "x_test2 = x_test2/255\n",
        "\n",
        "print(x_train2[1000])"
      ],
      "metadata": {
        "id": "5RgK_FILug3v"
      },
      "execution_count": null,
      "outputs": []
    },
    {
      "cell_type": "code",
      "source": [
        "#transforma os y em one-hot vector\n",
        "print(y_train)\n",
        "print(y_train.shape)\n",
        "\n",
        "print(y_test)\n",
        "print(y_test.shape)\n",
        "\n",
        "y_train_h = np_utils.to_categorical(y_train)\n",
        "y_test_h = np_utils.to_categorical(y_test)\n",
        "\n",
        "print('a')\n",
        "print(y_train_h)\n",
        "print(y_train_h.shape)\n",
        "\n",
        "print('b')\n",
        "print(y_test_h)\n",
        "print(y_test_h.shape)\n",
        "\n",
        "#contem o numero de classes do problema\n",
        "num_classes = y_test_h.shape[1]\n",
        "print(num_classes)\n"
      ],
      "metadata": {
        "id": "2O-GyE5-9cy6"
      },
      "execution_count": null,
      "outputs": []
    },
    {
      "cell_type": "code",
      "source": [
        "model = Sequential()\n",
        "model.add(InputLayer(input_shape = num_pixels))\n",
        "model.add(Dense(1024, kernel_initializer='normal', activation='relu')) #cria camada de entrada\n",
        "model.add(Dense(2048, kernel_initializer='normal', activation='relu')) #cria a segunda camada\n",
        "model.add(Dense(num_classes, kernel_initializer='normal', activation='softmax')) #cria a camada de saída\n",
        "\n",
        "model.summary()#imprime informaçoes sobre o modelo\n"
      ],
      "metadata": {
        "id": "20nVfqf7UMcV"
      },
      "execution_count": null,
      "outputs": []
    },
    {
      "cell_type": "code",
      "source": [],
      "metadata": {
        "id": "VmcmF3ZeY-kl"
      },
      "execution_count": null,
      "outputs": []
    }
  ],
  "metadata": {
    "colab": {
      "collapsed_sections": [],
      "name": "Olá, este é o Colaboratory",
      "provenance": [],
      "include_colab_link": true
    },
    "kernelspec": {
      "display_name": "Python 3",
      "name": "python3"
    }
  },
  "nbformat": 4,
  "nbformat_minor": 0
}